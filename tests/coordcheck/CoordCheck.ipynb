{
 "cells": [
  {
   "cell_type": "code",
   "execution_count": null,
   "metadata": {
    "ExecuteTime": {
     "end_time": "2022-03-08T04:53:25.053735Z",
     "start_time": "2022-03-08T04:53:23.742825Z"
    }
   },
   "outputs": [],
   "source": [
    "from coordcheck import *\n",
    "from itertools import product\n",
    "import matplotlib.pyplot as plt"
   ]
  },
  {
   "cell_type": "markdown",
   "metadata": {},
   "source": [
    "Note how the standard parametrization (SP) plots below (dark background) all feature some rising or falling curves (bad!), but the maximal update parametrization (μP) plots below (white background) in contrast all have flat curves (good!)."
   ]
  },
  {
   "cell_type": "code",
   "execution_count": null,
   "metadata": {
    "ExecuteTime": {
     "end_time": "2022-02-04T22:02:36.465971Z",
     "start_time": "2022-02-04T21:53:37.641599Z"
    }
   },
   "outputs": [],
   "source": [
    "# combo = product(['holo', 'gpt2', 'bert', 'roberta'], [False, True], [False, True])\n",
    "combo = product(['holo'], [False], [True])\n",
    "for arch, vary_nhead, mup in combo:\n",
    "  plot_coord_check(\n",
    "    arch, mup, vary_nhead, loglog=True, nseeds=1, nsteps=10, lr=1e-3, cuda=False, legend='full',\n",
    "    # name_contains='self_attention.',\n",
    "  )\n",
    "  plt.show()"
   ]
  },
  {
   "cell_type": "code",
   "execution_count": null,
   "metadata": {},
   "outputs": [],
   "source": []
  }
 ],
 "metadata": {
  "hide_input": false,
  "kernelspec": {
   "display_name": "Python 3",
   "language": "python",
   "name": "python3"
  },
  "language_info": {
   "codemirror_mode": {
    "name": "ipython",
    "version": 3
   },
   "file_extension": ".py",
   "mimetype": "text/x-python",
   "name": "python",
   "nbconvert_exporter": "python",
   "pygments_lexer": "ipython3",
   "version": "3.10.14"
  },
  "toc": {
   "base_numbering": 1,
   "nav_menu": {},
   "number_sections": true,
   "sideBar": true,
   "skip_h1_title": false,
   "title_cell": "Table of Contents",
   "title_sidebar": "Contents",
   "toc_cell": false,
   "toc_position": {},
   "toc_section_display": true,
   "toc_window_display": false
  }
 },
 "nbformat": 4,
 "nbformat_minor": 4
}
